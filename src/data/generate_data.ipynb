{
 "cells": [
  {
   "cell_type": "code",
   "execution_count": 1,
   "metadata": {},
   "outputs": [],
   "source": [
    "import json"
   ]
  },
  {
   "cell_type": "code",
   "execution_count": 6,
   "metadata": {},
   "outputs": [
    {
     "name": "stdout",
     "output_type": "stream",
     "text": [
      "{'labels': [0, 1, 2, 3, 4, 5, 6, 7, 8, 9, 10, 11, 12, 13, 14], 'temp_values': [0, 2, 4, 6, 8, 10, 12, 14, 16, 18], 'hum_values': [20.0, 19.7, 19.4, 19.1, 18.8, 18.5, 18.2, 17.9, 17.6, 17.3, 17.0, 16.7, 16.4, 16.1, 15.8], 'water_values': [60.0, 59.5, 59.0, 58.5, 58.0, 57.5, 57.0, 56.5, 56.0, 55.5, 55.0, 54.5, 54.0, 53.5, 53.0]}\n"
     ]
    }
   ],
   "source": [
    "test = [{\"time\":i, \"value\":i*2} for i in range(10)]\n",
    "# tmp = json.dumps(test) #convert to json\n",
    "\n",
    "labels = [i for i in range(15)]\n",
    "temp_values = [i*2 for i in range(10)]\n",
    "hum_values = [20-i*0.3 for i in range(15)]\n",
    "water_values = [60-i*0.5 for i in range(15)]\n",
    "\n",
    "test = {\"labels\":labels,\"temp_values\":temp_values,\"hum_values\":hum_values,\"water_values\":water_values}\n",
    "\n",
    "print(test)\n",
    "# print(tmp)\n",
    "with open('data.json', 'w') as fp:\n",
    "    json.dump(test, fp)"
   ]
  },
  {
   "cell_type": "code",
   "execution_count": 3,
   "metadata": {},
   "outputs": [
    {
     "name": "stdout",
     "output_type": "stream",
     "text": [
      "{'labels': [0, 1, 2, 3, 4, 5, 6, 7, 8, 9], 'temp_values': [0, 2, 4, 6, 8, 10, 12, 14, 16, 18], 'hum_values': [20.0, 19.7, 19.4, 19.1, 18.8, 18.5, 18.2, 17.9, 17.6, 17.3, 17.0, 16.7, 16.4, 16.1, 15.8], 'water_values': [80.0, 79.5, 79.0, 78.5, 78.0, 77.5, 77.0, 76.5, 76.0, 75.5]}\n"
     ]
    }
   ],
   "source": [
    "print(test)\n",
    "# print(tmp)\n",
    "with open('data.json', 'w') as fp:\n",
    "    json.dump(test, fp)"
   ]
  },
  {
   "cell_type": "code",
   "execution_count": null,
   "metadata": {},
   "outputs": [],
   "source": []
  },
  {
   "cell_type": "code",
   "execution_count": null,
   "metadata": {},
   "outputs": [],
   "source": []
  },
  {
   "cell_type": "code",
   "execution_count": null,
   "metadata": {},
   "outputs": [],
   "source": []
  }
 ],
 "metadata": {
  "kernelspec": {
   "display_name": "Python 3",
   "language": "python",
   "name": "python3"
  },
  "language_info": {
   "codemirror_mode": {
    "name": "ipython",
    "version": 3
   },
   "file_extension": ".py",
   "mimetype": "text/x-python",
   "name": "python",
   "nbconvert_exporter": "python",
   "pygments_lexer": "ipython3",
   "version": "3.8.5"
  }
 },
 "nbformat": 4,
 "nbformat_minor": 4
}
