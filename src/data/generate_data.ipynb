{
 "cells": [
  {
   "cell_type": "code",
   "execution_count": 2,
   "metadata": {},
   "outputs": [],
   "source": [
    "import json"
   ]
  },
  {
   "cell_type": "code",
   "execution_count": 20,
   "metadata": {},
   "outputs": [],
   "source": [
    "test = [{\"time\":i, \"value\":i*2} for i in range(10)]\n",
    "# tmp = json.dumps(test) #convert to json\n",
    "\n",
    "labels = [i for i in range(10)]\n",
    "temp_values = [i*2 for i in range(10)]\n",
    "hum_values = [10-i*0.25 for i in range(10)]\n",
    "water_values = [80-i*0.5 for i in range(10)]\n",
    "\n",
    "test = {\"labels\":labels,\"temp_values\":temp_values,\"hum_values\":hum_values,\"water_values\":water_values}"
   ]
  },
  {
   "cell_type": "code",
   "execution_count": 21,
   "metadata": {},
   "outputs": [
    {
     "name": "stdout",
     "output_type": "stream",
     "text": [
      "{'labels': [0, 1, 2, 3, 4, 5, 6, 7, 8, 9], 'temp_values': [0, 2, 4, 6, 8, 10, 12, 14, 16, 18], 'hum_values': [10.0, 9.75, 9.5, 9.25, 9.0, 8.75, 8.5, 8.25, 8.0, 7.75], 'water_values': [80.0, 79.5, 79.0, 78.5, 78.0, 77.5, 77.0, 76.5, 76.0, 75.5]}\n"
     ]
    }
   ],
   "source": [
    "print(test)\n",
    "# print(tmp)\n",
    "with open('data.json', 'w') as fp:\n",
    "    json.dump(test, fp)"
   ]
  },
  {
   "cell_type": "code",
   "execution_count": null,
   "metadata": {},
   "outputs": [],
   "source": []
  },
  {
   "cell_type": "code",
   "execution_count": null,
   "metadata": {},
   "outputs": [],
   "source": []
  },
  {
   "cell_type": "code",
   "execution_count": null,
   "metadata": {},
   "outputs": [],
   "source": []
  }
 ],
 "metadata": {
  "kernelspec": {
   "display_name": "Python 3",
   "language": "python",
   "name": "python3"
  },
  "language_info": {
   "codemirror_mode": {
    "name": "ipython",
    "version": 3
   },
   "file_extension": ".py",
   "mimetype": "text/x-python",
   "name": "python",
   "nbconvert_exporter": "python",
   "pygments_lexer": "ipython3",
   "version": "3.8.5"
  }
 },
 "nbformat": 4,
 "nbformat_minor": 4
}
