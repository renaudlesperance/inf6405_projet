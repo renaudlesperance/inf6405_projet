{
 "cells": [
  {
   "cell_type": "markdown",
   "metadata": {},
   "source": [
    "Les données de temperature sont pris de https://climat.meteo.gc.ca/index_f.html"
   ]
  },
  {
   "cell_type": "code",
   "execution_count": 15,
   "metadata": {},
   "outputs": [],
   "source": [
    "import json\n",
    "import pandas as pd"
   ]
  },
  {
   "cell_type": "code",
   "execution_count": null,
   "metadata": {},
   "outputs": [],
   "source": [
    "test = [{\"time\":i, \"value\":i*2} for i in range(10)]\n",
    "# tmp = json.dumps(test) #convert to json\n",
    "\n",
    "labels = [i for i in range(100)]\n",
    "temp_values = [i*2 for i in range(100)]\n",
    "hum_values = [20-i*0.3 for i in range(100)]\n",
    "water_values = [60-i*0.5 for i in range(100)]\n",
    "pH_values = [6-0.005*i for i in range(100)]\n",
    "CO2_values = [800-0.04*i for i in range(100)]\n",
    "Sun_values = [600+10*i for i in range(100)]\n",
    "\n",
    "test = {\"labels\":labels,\"temp_values\":temp_values,\"hum_values\":hum_values,\"water_values\":water_values,\"pH_values\":pH_values,\"CO2_values\":CO2_values,\"Sun_values\":Sun_values}\n",
    "\n",
    "print(test)\n",
    "# print(tmp)\n",
    "with open('data.json', 'w') as fp:\n",
    "    json.dump(test, fp)"
   ]
  },
  {
   "cell_type": "code",
   "execution_count": null,
   "metadata": {},
   "outputs": [],
   "source": []
  },
  {
   "cell_type": "code",
   "execution_count": 60,
   "metadata": {},
   "outputs": [],
   "source": [
    "temps_data = pd.read_csv(\"fr_climat_horaires_QC_702S006_07-2022_P1H.csv\",decimal=',')\n",
    "temps_data = temps_data[[\"Jour\", \"Heure (HNL)\",\"Temp (°C)\",\"Hum. rel (%)\",\"Hauteur de précip. (mm)\"]]\n",
    "temps_data[\"Heure (HNL)\"] = (temps_data[\"Heure (HNL)\"].str.replace(\":00\",\"\")).astype(int)\n",
    "# temps_data"
   ]
  },
  {
   "cell_type": "code",
   "execution_count": 58,
   "metadata": {},
   "outputs": [],
   "source": [
    "day_temp_data = temps_data.groupby(\"Jour\").mean(numeric_only=True)\n",
    "# day_temp_data"
   ]
  },
  {
   "cell_type": "code",
   "execution_count": 59,
   "metadata": {},
   "outputs": [],
   "source": [
    "times = []\n",
    "temp_values = [] \n",
    "hum_values = []\n",
    "water_values = []\n",
    "pH_values = []\n",
    "co2_values = []\n",
    "sun_values = []\n",
    "\n",
    "time_len = [3600,25,7]\n",
    "for j in time_len:\n",
    "    times.append([i for i in range(j)])\n",
    "    temp_values.append([i*2 for i in range(j)])\n",
    "    hum_values.append([20-i*0.3 for i in range(j)])\n",
    "    water_values.append([60-i*0.5 for i in range(j)])\n",
    "    pH_values.append([6-0.005*i for i in range(j)])\n",
    "    co2_values.append([800-0.04*i for i in range(j)])\n",
    "    sun_values.append([600+10*i for i in range(j)])\n",
    "\n",
    "test = {\"times\":times,\"temp_values\":temp_values,\"hum_values\":hum_values,\"water_values\":water_values,\"pH_values\":pH_values,\"CO2_values\":co2_values,\"Sun_values\":sun_values}\n",
    "# print(test)\n",
    "# print(tmp)\n",
    "with open('data.json', 'w') as fp:\n",
    "    json.dump(test, fp)"
   ]
  }
 ],
 "metadata": {
  "kernelspec": {
   "display_name": "Python 3",
   "language": "python",
   "name": "python3"
  },
  "language_info": {
   "codemirror_mode": {
    "name": "ipython",
    "version": 3
   },
   "file_extension": ".py",
   "mimetype": "text/x-python",
   "name": "python",
   "nbconvert_exporter": "python",
   "pygments_lexer": "ipython3",
   "version": "3.8.5"
  }
 },
 "nbformat": 4,
 "nbformat_minor": 4
}
